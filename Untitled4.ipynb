{
 "cells": [
  {
   "cell_type": "code",
   "execution_count": 1,
   "metadata": {},
   "outputs": [],
   "source": [
    "import os\n",
    "import pandas as pd\n",
    "import numpy as np\n",
    "from sklearn.preprocessing import LabelEncoder\n",
    "from sklearn.ensemble import RandomForestClassifier,GradientBoostingClassifier,AdaBoostClassifier\n",
    "from sklearn.linear_model import RidgeClassifierCV"
   ]
  },
  {
   "cell_type": "code",
   "execution_count": 2,
   "metadata": {},
   "outputs": [],
   "source": [
    "os.chdir('G:\\\\Machine learning\\\\titanic')"
   ]
  },
  {
   "cell_type": "code",
   "execution_count": 51,
   "metadata": {},
   "outputs": [],
   "source": [
    "train = pd.read_csv('train.csv')\n",
    "test = pd.read_csv('test.csv')"
   ]
  },
  {
   "cell_type": "code",
   "execution_count": 52,
   "metadata": {},
   "outputs": [
    {
     "name": "stderr",
     "output_type": "stream",
     "text": [
      "C:\\Users\\Lenovo\\Anaconda3\\lib\\site-packages\\ipykernel_launcher.py:17: SettingWithCopyWarning: \n",
      "A value is trying to be set on a copy of a slice from a DataFrame\n",
      "\n",
      "See the caveats in the documentation: http://pandas.pydata.org/pandas-docs/stable/indexing.html#indexing-view-versus-copy\n",
      "C:\\Users\\Lenovo\\Anaconda3\\lib\\site-packages\\ipykernel_launcher.py:17: SettingWithCopyWarning: \n",
      "A value is trying to be set on a copy of a slice from a DataFrame\n",
      "\n",
      "See the caveats in the documentation: http://pandas.pydata.org/pandas-docs/stable/indexing.html#indexing-view-versus-copy\n"
     ]
    }
   ],
   "source": [
    "train_id = pd.DataFrame(train['PassengerId'])\n",
    "test_id = pd.DataFrame(test['PassengerId'])\n",
    "\n",
    "full_data = [train, test]\n",
    "\n",
    "for data in full_data:\n",
    "    data['Has_Cabin'] = data[\"Cabin\"].apply(lambda x: 0 if type(x) == float else 1)\n",
    "    \n",
    "    data['family_count'] = data['SibSp'] + data['Parch'] + 1\n",
    "    \n",
    "    data['alone'] = 0\n",
    "    data.loc[data['family_count'] == 1,'alone'] = 1\n",
    "    \n",
    "    data['Embarked'] = data['Embarked'].fillna('S')\n",
    "    \n",
    "    null_age_train = np.random.randint(data['Age'].mean() - data['Age'].std(), data['Age'].mean() + data['Age'].std(), size=data['Age'].isnull().sum())\n",
    "    data['Age'][np.isnan(data['Age'])] = null_age_train\n",
    "    \n",
    "    data['Age'] = pd.qcut(data['Age'],[0,0.25,0.50,0.75,1.0])\n",
    "    \n",
    "    data['Fare'] = data['Fare'].fillna(14)\n",
    "    \n",
    "    data['Fare'] = pd.qcut(data['Fare'],[0,0.25,0.50,0.75,1.0])\n",
    "           \n",
    "    data['Title'] = data['Name'].str.split(\", \", expand=True)[1].str.split(\".\", expand=True)[0]\n",
    "    data['Title'] = data['Title'].replace(['Lady', 'Countess','Capt','Mme', 'Ms', 'Mlle', 'Col','Don',\n",
    "    'Dr', 'Major', 'Rev', 'Sir', 'Jonkheer', 'Dona','the Countess'], 'Rare')\n",
    "    \n",
    "    \n",
    "    data.drop(['PassengerId', 'Name', 'Ticket','Cabin','SibSp'],inplace = True,axis = 1)\n",
    "    \n",
    "\n",
    "\n",
    "    "
   ]
  },
  {
   "cell_type": "code",
   "execution_count": 53,
   "metadata": {},
   "outputs": [],
   "source": [
    "x_train = train.drop(['Survived'],axis=1)\n",
    "y_train = train.drop(x_train,axis=1)\n",
    "y_train = np.ravel(y_train)\n",
    "x_train = pd.get_dummies(x_train)"
   ]
  },
  {
   "cell_type": "code",
   "execution_count": 54,
   "metadata": {},
   "outputs": [],
   "source": [
    "def score(model,x):\n",
    "    acc = model.score(x,y_train)\n",
    "    a = pd.DataFrame(model.predict(x))\n",
    "    a[1] = y_train\n",
    "    r = a[(a[0] == a[1]) & (a[0] == 1)].shape[0] / a[a[1] == 1].shape[0]\n",
    "    p = a[(a[0] == a[1]) & (a[0] == 1)].shape[0] / a[a[0] == 1].shape[0]\n",
    "    f1 = (2*p*r)/(p+r)\n",
    "    \n",
    "    return([acc*100,r*100,p*100,f1*100])"
   ]
  },
  {
   "cell_type": "code",
   "execution_count": 57,
   "metadata": {},
   "outputs": [
    {
     "data": {
      "text/html": [
       "<div>\n",
       "<style scoped>\n",
       "    .dataframe tbody tr th:only-of-type {\n",
       "        vertical-align: middle;\n",
       "    }\n",
       "\n",
       "    .dataframe tbody tr th {\n",
       "        vertical-align: top;\n",
       "    }\n",
       "\n",
       "    .dataframe thead th {\n",
       "        text-align: right;\n",
       "    }\n",
       "</style>\n",
       "<table border=\"1\" class=\"dataframe\">\n",
       "  <thead>\n",
       "    <tr style=\"text-align: right;\">\n",
       "      <th></th>\n",
       "      <th>Overall</th>\n",
       "      <th>Random Forest</th>\n",
       "      <th>Linear regression</th>\n",
       "      <th>GradientBoosting</th>\n",
       "      <th>AdaBoost</th>\n",
       "    </tr>\n",
       "  </thead>\n",
       "  <tbody>\n",
       "    <tr>\n",
       "      <th>Precision</th>\n",
       "      <td>90.123457</td>\n",
       "      <td>90.123457</td>\n",
       "      <td>83.838384</td>\n",
       "      <td>89.337823</td>\n",
       "      <td>82.603816</td>\n",
       "    </tr>\n",
       "    <tr>\n",
       "      <th>F1 Score</th>\n",
       "      <td>82.748538</td>\n",
       "      <td>83.040936</td>\n",
       "      <td>75.146199</td>\n",
       "      <td>80.701754</td>\n",
       "      <td>76.315789</td>\n",
       "    </tr>\n",
       "    <tr>\n",
       "      <th>Recall</th>\n",
       "      <td>90.705128</td>\n",
       "      <td>90.445860</td>\n",
       "      <td>81.329114</td>\n",
       "      <td>90.491803</td>\n",
       "      <td>77.910448</td>\n",
       "    </tr>\n",
       "    <tr>\n",
       "      <th>Accuracy</th>\n",
       "      <td>86.544343</td>\n",
       "      <td>86.585366</td>\n",
       "      <td>78.115502</td>\n",
       "      <td>85.316847</td>\n",
       "      <td>77.104874</td>\n",
       "    </tr>\n",
       "  </tbody>\n",
       "</table>\n",
       "</div>"
      ],
      "text/plain": [
       "             Overall  Random Forest  Linear regression  GradientBoosting  \\\n",
       "Precision  90.123457      90.123457          83.838384         89.337823   \n",
       "F1 Score   82.748538      83.040936          75.146199         80.701754   \n",
       "Recall     90.705128      90.445860          81.329114         90.491803   \n",
       "Accuracy   86.544343      86.585366          78.115502         85.316847   \n",
       "\n",
       "            AdaBoost  \n",
       "Precision  82.603816  \n",
       "F1 Score   76.315789  \n",
       "Recall     77.910448  \n",
       "Accuracy   77.104874  "
      ]
     },
     "execution_count": 57,
     "metadata": {},
     "output_type": "execute_result"
    }
   ],
   "source": [
    "    \n",
    "    model_1 = RandomForestClassifier(n_estimators=100,oob_score=True,max_features=\"sqrt\",random_state=200)\n",
    "    model_1.fit(x_train,y_train)\n",
    "\n",
    "    model_2 = RidgeClassifierCV(alphas=(0.01,0.1,1.0),fit_intercept=True,normalize=True,cv=5)\n",
    "    model_2.fit(x_train,y_train)\n",
    "\n",
    "    model_3 = GradientBoostingClassifier(n_estimators=700,random_state=400)\n",
    "    model_3.fit(x_train,y_train)\n",
    "\n",
    "    model_4 = AdaBoostClassifier(n_estimators=700,random_state=400)\n",
    "    model_4.fit(x_train,y_train)\n",
    "\n",
    "    model1_proba = pd.DataFrame(model_1.predict_proba(x_train)[:,1])\n",
    "    model1_proba = model1_proba[0].map(lambda x: int(x*10) if x != 1 else 1)\n",
    "\n",
    "    model2_pred = pd.DataFrame(model_2.predict(x_train))\n",
    "\n",
    "    model3_proba = pd.DataFrame(model_3.predict_proba(x_train)[:,1])\n",
    "    model3_proba = model3_proba[0].map(lambda x: int(x*10) if x != 1 else 1)\n",
    "\n",
    "    model4_proba = pd.DataFrame(model_4.predict_proba(x_train)[:,1])\n",
    "    model4_proba = model4_proba[0].map(lambda x: int(x*10) if x != 1 else 1)\n",
    "\n",
    "    final_data = pd.DataFrame({'Random Forest': np.ravel(model1_proba), 'Linear regression':np.ravel(model2_pred),\n",
    "                               'GradientBoosting':np.ravel(model3_proba),'AdaBoost':np.ravel(model4_proba)})\n",
    "\n",
    "    model_5= RandomForestClassifier(n_estimators=100,oob_score=True,max_features=\"sqrt\",random_state=200)\n",
    "    model_5.fit(final_data,y_train)\n",
    "\n",
    "    result = pd.DataFrame({'Overall':np.ravel(score(model_5,final_data)), \n",
    "                           'Random Forest': np.ravel(score(model_1,x_train)),\n",
    "                           'Linear regression':np.ravel(score(model_2,x_train)),\n",
    "                           'GradientBoosting':np.ravel(score(model_3,x_train)),\n",
    "                           'AdaBoost':np.ravel(score(model_4,x_train))}, \n",
    "                           index={'Accuracy','Recall','Precision','F1 Score'})\n",
    "\n",
    "    result"
   ]
  },
  {
   "cell_type": "code",
   "execution_count": 58,
   "metadata": {},
   "outputs": [],
   "source": [
    "x_test = pd.get_dummies(test)\n",
    "final_y = pd.DataFrame({'PassengerID':np.ravel(test_id),'Survuval':np.ravel(model_1.predict(x_test))})\n",
    "final_y.to_csv('Titanic Submission_2.csv',header=['PassengerId','Survived'],index=False)\n"
   ]
  }
 ],
 "metadata": {
  "kernelspec": {
   "display_name": "Python 3",
   "language": "python",
   "name": "python3"
  },
  "language_info": {
   "codemirror_mode": {
    "name": "ipython",
    "version": 3
   },
   "file_extension": ".py",
   "mimetype": "text/x-python",
   "name": "python",
   "nbconvert_exporter": "python",
   "pygments_lexer": "ipython3",
   "version": "3.6.7"
  }
 },
 "nbformat": 4,
 "nbformat_minor": 2
}
